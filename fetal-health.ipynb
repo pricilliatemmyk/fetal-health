{
 "cells": [
  {
   "cell_type": "code",
   "execution_count": 21,
   "metadata": {},
   "outputs": [],
   "source": [
    "import numpy as np \n",
    "import pandas as pd \n",
    "from sklearn.model_selection import train_test_split \n",
    "from sklearn.linear_model import  LogisticRegression \n",
    "from sklearn.metrics import accuracy_score"
   ]
  },
  {
   "cell_type": "code",
   "execution_count": 22,
   "metadata": {},
   "outputs": [],
   "source": [
    "PRICILLIA = pd.read_csv('fetal_health.csv')"
   ]
  },
  {
   "cell_type": "code",
   "execution_count": 23,
   "metadata": {},
   "outputs": [
    {
     "data": {
      "text/html": [
       "<div>\n",
       "<style scoped>\n",
       "    .dataframe tbody tr th:only-of-type {\n",
       "        vertical-align: middle;\n",
       "    }\n",
       "\n",
       "    .dataframe tbody tr th {\n",
       "        vertical-align: top;\n",
       "    }\n",
       "\n",
       "    .dataframe thead th {\n",
       "        text-align: right;\n",
       "    }\n",
       "</style>\n",
       "<table border=\"1\" class=\"dataframe\">\n",
       "  <thead>\n",
       "    <tr style=\"text-align: right;\">\n",
       "      <th></th>\n",
       "      <th>baseline value</th>\n",
       "      <th>accelerations</th>\n",
       "      <th>fetal_movement</th>\n",
       "      <th>uterine_contractions</th>\n",
       "      <th>light_decelerations</th>\n",
       "      <th>severe_decelerations</th>\n",
       "      <th>prolongued_decelerations</th>\n",
       "      <th>abnormal_short_term_variability</th>\n",
       "      <th>mean_value_of_short_term_variability</th>\n",
       "      <th>percentage_of_time_with_abnormal_long_term_variability</th>\n",
       "      <th>...</th>\n",
       "      <th>histogram_min</th>\n",
       "      <th>histogram_max</th>\n",
       "      <th>histogram_number_of_peaks</th>\n",
       "      <th>histogram_number_of_zeroes</th>\n",
       "      <th>histogram_mode</th>\n",
       "      <th>histogram_mean</th>\n",
       "      <th>histogram_median</th>\n",
       "      <th>histogram_variance</th>\n",
       "      <th>histogram_tendency</th>\n",
       "      <th>fetal_health</th>\n",
       "    </tr>\n",
       "  </thead>\n",
       "  <tbody>\n",
       "    <tr>\n",
       "      <th>0</th>\n",
       "      <td>120</td>\n",
       "      <td>0.000</td>\n",
       "      <td>0.0</td>\n",
       "      <td>0.000</td>\n",
       "      <td>0.000</td>\n",
       "      <td>0.0</td>\n",
       "      <td>0.0</td>\n",
       "      <td>73</td>\n",
       "      <td>0.5</td>\n",
       "      <td>43</td>\n",
       "      <td>...</td>\n",
       "      <td>62</td>\n",
       "      <td>126</td>\n",
       "      <td>2</td>\n",
       "      <td>0</td>\n",
       "      <td>120</td>\n",
       "      <td>137</td>\n",
       "      <td>121</td>\n",
       "      <td>73</td>\n",
       "      <td>1</td>\n",
       "      <td>1</td>\n",
       "    </tr>\n",
       "    <tr>\n",
       "      <th>1</th>\n",
       "      <td>132</td>\n",
       "      <td>0.006</td>\n",
       "      <td>0.0</td>\n",
       "      <td>0.006</td>\n",
       "      <td>0.003</td>\n",
       "      <td>0.0</td>\n",
       "      <td>0.0</td>\n",
       "      <td>17</td>\n",
       "      <td>2.1</td>\n",
       "      <td>0</td>\n",
       "      <td>...</td>\n",
       "      <td>68</td>\n",
       "      <td>198</td>\n",
       "      <td>6</td>\n",
       "      <td>1</td>\n",
       "      <td>141</td>\n",
       "      <td>136</td>\n",
       "      <td>140</td>\n",
       "      <td>12</td>\n",
       "      <td>0</td>\n",
       "      <td>0</td>\n",
       "    </tr>\n",
       "    <tr>\n",
       "      <th>2</th>\n",
       "      <td>133</td>\n",
       "      <td>0.003</td>\n",
       "      <td>0.0</td>\n",
       "      <td>0.008</td>\n",
       "      <td>0.003</td>\n",
       "      <td>0.0</td>\n",
       "      <td>0.0</td>\n",
       "      <td>16</td>\n",
       "      <td>2.1</td>\n",
       "      <td>0</td>\n",
       "      <td>...</td>\n",
       "      <td>68</td>\n",
       "      <td>198</td>\n",
       "      <td>5</td>\n",
       "      <td>1</td>\n",
       "      <td>141</td>\n",
       "      <td>135</td>\n",
       "      <td>138</td>\n",
       "      <td>13</td>\n",
       "      <td>0</td>\n",
       "      <td>0</td>\n",
       "    </tr>\n",
       "    <tr>\n",
       "      <th>3</th>\n",
       "      <td>134</td>\n",
       "      <td>0.003</td>\n",
       "      <td>0.0</td>\n",
       "      <td>0.008</td>\n",
       "      <td>0.003</td>\n",
       "      <td>0.0</td>\n",
       "      <td>0.0</td>\n",
       "      <td>16</td>\n",
       "      <td>2.4</td>\n",
       "      <td>0</td>\n",
       "      <td>...</td>\n",
       "      <td>53</td>\n",
       "      <td>170</td>\n",
       "      <td>11</td>\n",
       "      <td>0</td>\n",
       "      <td>137</td>\n",
       "      <td>134</td>\n",
       "      <td>137</td>\n",
       "      <td>13</td>\n",
       "      <td>1</td>\n",
       "      <td>0</td>\n",
       "    </tr>\n",
       "    <tr>\n",
       "      <th>4</th>\n",
       "      <td>132</td>\n",
       "      <td>0.007</td>\n",
       "      <td>0.0</td>\n",
       "      <td>0.008</td>\n",
       "      <td>0.000</td>\n",
       "      <td>0.0</td>\n",
       "      <td>0.0</td>\n",
       "      <td>16</td>\n",
       "      <td>2.4</td>\n",
       "      <td>0</td>\n",
       "      <td>...</td>\n",
       "      <td>53</td>\n",
       "      <td>170</td>\n",
       "      <td>9</td>\n",
       "      <td>0</td>\n",
       "      <td>137</td>\n",
       "      <td>136</td>\n",
       "      <td>138</td>\n",
       "      <td>11</td>\n",
       "      <td>1</td>\n",
       "      <td>0</td>\n",
       "    </tr>\n",
       "  </tbody>\n",
       "</table>\n",
       "<p>5 rows × 22 columns</p>\n",
       "</div>"
      ],
      "text/plain": [
       "   baseline value  accelerations  fetal_movement  uterine_contractions  \\\n",
       "0             120          0.000             0.0                 0.000   \n",
       "1             132          0.006             0.0                 0.006   \n",
       "2             133          0.003             0.0                 0.008   \n",
       "3             134          0.003             0.0                 0.008   \n",
       "4             132          0.007             0.0                 0.008   \n",
       "\n",
       "   light_decelerations  severe_decelerations  prolongued_decelerations  \\\n",
       "0                0.000                   0.0                       0.0   \n",
       "1                0.003                   0.0                       0.0   \n",
       "2                0.003                   0.0                       0.0   \n",
       "3                0.003                   0.0                       0.0   \n",
       "4                0.000                   0.0                       0.0   \n",
       "\n",
       "   abnormal_short_term_variability  mean_value_of_short_term_variability  \\\n",
       "0                               73                                   0.5   \n",
       "1                               17                                   2.1   \n",
       "2                               16                                   2.1   \n",
       "3                               16                                   2.4   \n",
       "4                               16                                   2.4   \n",
       "\n",
       "   percentage_of_time_with_abnormal_long_term_variability  ...  histogram_min  \\\n",
       "0                                                 43       ...             62   \n",
       "1                                                  0       ...             68   \n",
       "2                                                  0       ...             68   \n",
       "3                                                  0       ...             53   \n",
       "4                                                  0       ...             53   \n",
       "\n",
       "   histogram_max  histogram_number_of_peaks  histogram_number_of_zeroes  \\\n",
       "0            126                          2                           0   \n",
       "1            198                          6                           1   \n",
       "2            198                          5                           1   \n",
       "3            170                         11                           0   \n",
       "4            170                          9                           0   \n",
       "\n",
       "   histogram_mode  histogram_mean  histogram_median  histogram_variance  \\\n",
       "0             120             137               121                  73   \n",
       "1             141             136               140                  12   \n",
       "2             141             135               138                  13   \n",
       "3             137             134               137                  13   \n",
       "4             137             136               138                  11   \n",
       "\n",
       "   histogram_tendency  fetal_health  \n",
       "0                   1             1  \n",
       "1                   0             0  \n",
       "2                   0             0  \n",
       "3                   1             0  \n",
       "4                   1             0  \n",
       "\n",
       "[5 rows x 22 columns]"
      ]
     },
     "execution_count": 23,
     "metadata": {},
     "output_type": "execute_result"
    }
   ],
   "source": [
    "PRICILLIA.head()"
   ]
  },
  {
   "cell_type": "code",
   "execution_count": 24,
   "metadata": {},
   "outputs": [],
   "source": [
    "X = PRICILLIA.drop(columns='fetal_health', axis=1) \n",
    "Y = PRICILLIA['fetal_health']"
   ]
  },
  {
   "cell_type": "code",
   "execution_count": 25,
   "metadata": {},
   "outputs": [
    {
     "name": "stdout",
     "output_type": "stream",
     "text": [
      "      baseline value  accelerations  fetal_movement  uterine_contractions  \\\n",
      "0                120          0.000           0.000                 0.000   \n",
      "1                132          0.006           0.000                 0.006   \n",
      "2                133          0.003           0.000                 0.008   \n",
      "3                134          0.003           0.000                 0.008   \n",
      "4                132          0.007           0.000                 0.008   \n",
      "...              ...            ...             ...                   ...   \n",
      "2121             140          0.000           0.000                 0.007   \n",
      "2122             140          0.001           0.000                 0.007   \n",
      "2123             140          0.001           0.000                 0.007   \n",
      "2124             140          0.001           0.000                 0.006   \n",
      "2125             142          0.002           0.002                 0.008   \n",
      "\n",
      "      light_decelerations  severe_decelerations  prolongued_decelerations  \\\n",
      "0                   0.000                   0.0                       0.0   \n",
      "1                   0.003                   0.0                       0.0   \n",
      "2                   0.003                   0.0                       0.0   \n",
      "3                   0.003                   0.0                       0.0   \n",
      "4                   0.000                   0.0                       0.0   \n",
      "...                   ...                   ...                       ...   \n",
      "2121                0.000                   0.0                       0.0   \n",
      "2122                0.000                   0.0                       0.0   \n",
      "2123                0.000                   0.0                       0.0   \n",
      "2124                0.000                   0.0                       0.0   \n",
      "2125                0.000                   0.0                       0.0   \n",
      "\n",
      "      abnormal_short_term_variability  mean_value_of_short_term_variability  \\\n",
      "0                                  73                                   0.5   \n",
      "1                                  17                                   2.1   \n",
      "2                                  16                                   2.1   \n",
      "3                                  16                                   2.4   \n",
      "4                                  16                                   2.4   \n",
      "...                               ...                                   ...   \n",
      "2121                               79                                   0.2   \n",
      "2122                               78                                   0.4   \n",
      "2123                               79                                   0.4   \n",
      "2124                               78                                   0.4   \n",
      "2125                               74                                   0.4   \n",
      "\n",
      "      percentage_of_time_with_abnormal_long_term_variability  ...  \\\n",
      "0                                                    43       ...   \n",
      "1                                                     0       ...   \n",
      "2                                                     0       ...   \n",
      "3                                                     0       ...   \n",
      "4                                                     0       ...   \n",
      "...                                                 ...       ...   \n",
      "2121                                                 25       ...   \n",
      "2122                                                 22       ...   \n",
      "2123                                                 20       ...   \n",
      "2124                                                 27       ...   \n",
      "2125                                                 36       ...   \n",
      "\n",
      "      histogram_width  histogram_min  histogram_max  \\\n",
      "0                  64             62            126   \n",
      "1                 130             68            198   \n",
      "2                 130             68            198   \n",
      "3                 117             53            170   \n",
      "4                 117             53            170   \n",
      "...               ...            ...            ...   \n",
      "2121               40            137            177   \n",
      "2122               66            103            169   \n",
      "2123               67            103            170   \n",
      "2124               66            103            169   \n",
      "2125               42            117            159   \n",
      "\n",
      "      histogram_number_of_peaks  histogram_number_of_zeroes  histogram_mode  \\\n",
      "0                             2                           0             120   \n",
      "1                             6                           1             141   \n",
      "2                             5                           1             141   \n",
      "3                            11                           0             137   \n",
      "4                             9                           0             137   \n",
      "...                         ...                         ...             ...   \n",
      "2121                          4                           0             153   \n",
      "2122                          6                           0             152   \n",
      "2123                          5                           0             153   \n",
      "2124                          6                           0             152   \n",
      "2125                          2                           1             145   \n",
      "\n",
      "      histogram_mean  histogram_median  histogram_variance  histogram_tendency  \n",
      "0                137               121                  73                   1  \n",
      "1                136               140                  12                   0  \n",
      "2                135               138                  13                   0  \n",
      "3                134               137                  13                   1  \n",
      "4                136               138                  11                   1  \n",
      "...              ...               ...                 ...                 ...  \n",
      "2121             150               152                   2                   0  \n",
      "2122             148               151                   3                   1  \n",
      "2123             148               152                   4                   1  \n",
      "2124             147               151                   4                   1  \n",
      "2125             143               145                   1                   0  \n",
      "\n",
      "[2126 rows x 21 columns]\n"
     ]
    }
   ],
   "source": [
    "print(X)"
   ]
  },
  {
   "cell_type": "code",
   "execution_count": 26,
   "metadata": {},
   "outputs": [
    {
     "name": "stdout",
     "output_type": "stream",
     "text": [
      "0       1\n",
      "1       0\n",
      "2       0\n",
      "3       0\n",
      "4       0\n",
      "       ..\n",
      "2121    1\n",
      "2122    1\n",
      "2123    1\n",
      "2124    1\n",
      "2125    0\n",
      "Name: fetal_health, Length: 2126, dtype: int64\n"
     ]
    }
   ],
   "source": [
    "print(Y)"
   ]
  },
  {
   "cell_type": "code",
   "execution_count": 27,
   "metadata": {},
   "outputs": [],
   "source": [
    "X_train, X_test, Y_train, Y_test = train_test_split(X, Y, test_size=0.2, stratify=Y, random_state=2)"
   ]
  },
  {
   "cell_type": "code",
   "execution_count": 28,
   "metadata": {},
   "outputs": [
    {
     "name": "stdout",
     "output_type": "stream",
     "text": [
      "(2126, 21) (1700, 21) (426, 21)\n"
     ]
    }
   ],
   "source": [
    "print(X.shape, X_train.shape, X_test.shape)"
   ]
  },
  {
   "cell_type": "code",
   "execution_count": 29,
   "metadata": {},
   "outputs": [],
   "source": [
    "model = LogisticRegression()"
   ]
  },
  {
   "cell_type": "code",
   "execution_count": 30,
   "metadata": {},
   "outputs": [
    {
     "name": "stderr",
     "output_type": "stream",
     "text": [
      "c:\\Users\\alnur\\anaconda3\\lib\\site-packages\\sklearn\\linear_model\\_logistic.py:814: ConvergenceWarning: lbfgs failed to converge (status=1):\n",
      "STOP: TOTAL NO. of ITERATIONS REACHED LIMIT.\n",
      "\n",
      "Increase the number of iterations (max_iter) or scale the data as shown in:\n",
      "    https://scikit-learn.org/stable/modules/preprocessing.html\n",
      "Please also refer to the documentation for alternative solver options:\n",
      "    https://scikit-learn.org/stable/modules/linear_model.html#logistic-regression\n",
      "  n_iter_i = _check_optimize_result(\n"
     ]
    },
    {
     "data": {
      "text/plain": [
       "LogisticRegression()"
      ]
     },
     "execution_count": 30,
     "metadata": {},
     "output_type": "execute_result"
    }
   ],
   "source": [
    "model.fit(X_train, Y_train)"
   ]
  },
  {
   "cell_type": "code",
   "execution_count": 31,
   "metadata": {},
   "outputs": [],
   "source": [
    "X_train_prediction = model.predict(X_train) \n",
    "training_data_accuracy = accuracy_score(X_train_prediction, Y_train)"
   ]
  },
  {
   "cell_type": "code",
   "execution_count": 32,
   "metadata": {},
   "outputs": [
    {
     "name": "stdout",
     "output_type": "stream",
     "text": [
      "akurasi data training : 0.8735294117647059\n"
     ]
    }
   ],
   "source": [
    "print('akurasi data training :', training_data_accuracy)"
   ]
  },
  {
   "cell_type": "code",
   "execution_count": 33,
   "metadata": {},
   "outputs": [],
   "source": [
    "X_test_prediction = model.predict(X_test) \n",
    "test_data_accuracy = accuracy_score(X_test_prediction, Y_test)"
   ]
  },
  {
   "cell_type": "code",
   "execution_count": 34,
   "metadata": {},
   "outputs": [
    {
     "name": "stdout",
     "output_type": "stream",
     "text": [
      "akurasi data teting : 0.8356807511737089\n"
     ]
    }
   ],
   "source": [
    "print('akurasi data teting :', test_data_accuracy)"
   ]
  },
  {
   "cell_type": "code",
   "execution_count": 36,
   "metadata": {},
   "outputs": [
    {
     "name": "stdout",
     "output_type": "stream",
     "text": [
      "[0]\n",
      "Tingkat Resiko Rendah\n"
     ]
    },
    {
     "name": "stderr",
     "output_type": "stream",
     "text": [
      "c:\\Users\\alnur\\anaconda3\\lib\\site-packages\\sklearn\\base.py:450: UserWarning: X does not have valid feature names, but LogisticRegression was fitted with feature names\n",
      "  warnings.warn(\n"
     ]
    }
   ],
   "source": [
    "input_data = (132,0.006,0,0.006,0.003,0,0,17,2.1,0,10.4,130,68,198,6,1,141,136,140,12,0) \n",
    "\n",
    "input_data_as_numpy_array = np.asarray(input_data) \n",
    "\n",
    "input_data_reshaped = input_data_as_numpy_array.reshape(1,-1) \n",
    "\n",
    "prediction = model.predict(input_data_reshaped) \n",
    "print(prediction) \n",
    "\n",
    "if (prediction[0]==0):\n",
    "    print('Tingkat Resiko Rendah')\n",
    "elif (prediction[0]==1):\n",
    "    print('Tingkat Resiko Sedang')\n",
    "else:\n",
    "    print('Tingkat Resiko Tinggi')"
   ]
  },
  {
   "cell_type": "code",
   "execution_count": 35,
   "metadata": {},
   "outputs": [
    {
     "name": "stdout",
     "output_type": "stream",
     "text": [
      "[1]\n",
      "Tingkat Resiko Sedang\n"
     ]
    },
    {
     "name": "stderr",
     "output_type": "stream",
     "text": [
      "c:\\Users\\alnur\\anaconda3\\lib\\site-packages\\sklearn\\base.py:450: UserWarning: X does not have valid feature names, but LogisticRegression was fitted with feature names\n",
      "  warnings.warn(\n"
     ]
    }
   ],
   "source": [
    "input_data = (120,0,0,0,0,0,0,73,0.5,43,2.4,64,62,126,2,0,120,137,121,73,1) \n",
    "\n",
    "input_data_as_numpy_array = np.asarray(input_data) \n",
    "\n",
    "input_data_reshaped = input_data_as_numpy_array.reshape(1,-1) \n",
    "\n",
    "prediction = model.predict(input_data_reshaped) \n",
    "print(prediction) \n",
    "\n",
    "if (prediction[0]==0):\n",
    "    print('Tingkat Resiko Rendah')\n",
    "elif (prediction[0]==1):\n",
    "    print('Tingkat Resiko Sedang')\n",
    "else:\n",
    "    print('Tingkat Resiko Tinggi')"
   ]
  },
  {
   "cell_type": "code",
   "execution_count": 37,
   "metadata": {},
   "outputs": [
    {
     "name": "stdout",
     "output_type": "stream",
     "text": [
      "[2]\n",
      "Tingkat Resiko Tinggi\n"
     ]
    },
    {
     "name": "stderr",
     "output_type": "stream",
     "text": [
      "c:\\Users\\alnur\\anaconda3\\lib\\site-packages\\sklearn\\base.py:450: UserWarning: X does not have valid feature names, but LogisticRegression was fitted with feature names\n",
      "  warnings.warn(\n"
     ]
    }
   ],
   "source": [
    "input_data = (134,0.001,0,0.01,0.009,0,0.002,26,5.9,0,0,150,50,200,5,3,76,107,107,170,0) \n",
    "\n",
    "input_data_as_numpy_array = np.asarray(input_data) \n",
    "\n",
    "input_data_reshaped = input_data_as_numpy_array.reshape(1,-1) \n",
    "\n",
    "prediction = model.predict(input_data_reshaped) \n",
    "print(prediction) \n",
    "\n",
    "if (prediction[0]==0):\n",
    "    print('Tingkat Resiko Rendah')\n",
    "elif (prediction[0]==1):\n",
    "    print('Tingkat Resiko Sedang')\n",
    "else:\n",
    "    print('Tingkat Resiko Tinggi')"
   ]
  },
  {
   "cell_type": "code",
   "execution_count": 38,
   "metadata": {},
   "outputs": [],
   "source": [
    "import pickle"
   ]
  },
  {
   "cell_type": "code",
   "execution_count": 39,
   "metadata": {},
   "outputs": [],
   "source": [
    "filename = 'fetal-health.sav'\n",
    "pickle.dump(model, open(filename, 'wb'))"
   ]
  }
 ],
 "metadata": {
  "kernelspec": {
   "display_name": "base",
   "language": "python",
   "name": "python3"
  },
  "language_info": {
   "codemirror_mode": {
    "name": "ipython",
    "version": 3
   },
   "file_extension": ".py",
   "mimetype": "text/x-python",
   "name": "python",
   "nbconvert_exporter": "python",
   "pygments_lexer": "ipython3",
   "version": "3.9.13"
  },
  "orig_nbformat": 4,
  "vscode": {
   "interpreter": {
    "hash": "27620e585f0a753bd6303c1d7c7df6de7b12b649c4d8856df268c28c92bf30ff"
   }
  }
 },
 "nbformat": 4,
 "nbformat_minor": 2
}
